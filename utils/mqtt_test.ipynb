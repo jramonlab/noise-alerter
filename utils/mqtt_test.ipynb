{
 "cells": [
  {
   "cell_type": "markdown",
   "metadata": {},
   "source": [
    "# Creating a Client Instance"
   ]
  },
  {
   "cell_type": "code",
   "execution_count": null,
   "metadata": {},
   "outputs": [],
   "source": [
    "import paho.mqtt.client as mqtt\n",
    "import time"
   ]
  },
  {
   "cell_type": "markdown",
   "metadata": {},
   "source": [
    "Creating a Client Instance\n",
    "The client constructor takes 4 optional parameters, as shown below .but only the client_id is necessary, and should be unique."
   ]
  },
  {
   "cell_type": "code",
   "execution_count": null,
   "metadata": {},
   "outputs": [],
   "source": [
    "#Client(client_id=””, clean_session=True, userdata=None, protocol=MQTTv311, transport=”tcp”)\n",
    "\n",
    "client_name = \"client_X1\"\n",
    "client = mqtt.Client(client_name)"
   ]
  },
  {
   "cell_type": "markdown",
   "metadata": {},
   "source": [
    "# on_message CALLBACK"
   ]
  },
  {
   "cell_type": "code",
   "execution_count": 3,
   "metadata": {},
   "outputs": [],
   "source": [
    "def on_message(client, userdata, message):\n",
    "    print(\"message received \" ,str(message.payload.decode(\"utf-8\")))\n",
    "    print(\"message topic=\",message.topic)\n",
    "    print(\"message qos=\",message.qos)\n",
    "    print(\"message retain flag=\",message.retain)\n",
    "    print(\"\\n\")"
   ]
  },
  {
   "cell_type": "code",
   "execution_count": 4,
   "metadata": {},
   "outputs": [],
   "source": [
    "# Now we need to attach our callback function to our client object as follows:\n",
    "client.on_message = on_message        #attach function to callback"
   ]
  },
  {
   "cell_type": "markdown",
   "metadata": {},
   "source": [
    "# Connecting To a Broker or Server"
   ]
  },
  {
   "cell_type": "markdown",
   "metadata": {},
   "source": [
    "Connecting To a Broker or Server\n",
    "The method can be called with 4 parameters. The connect method declaration is shown below with the default parameters.\n",
    "\n",
    "connect(host, port=1883, keepalive=60, bind_address=\"\")"
   ]
  },
  {
   "cell_type": "code",
   "execution_count": 5,
   "metadata": {},
   "outputs": [
    {
     "data": {
      "text/plain": [
       "0"
      ]
     },
     "execution_count": 5,
     "metadata": {},
     "output_type": "execute_result"
    }
   ],
   "source": [
    "#host_name = \"test.mosquitto.org\"\n",
    "#host_name = \"broker.hivemq.com\"\n",
    "#host_name = \"iot.eclipse.org\"\n",
    "#host_name = \"192.168.1.138\"\n",
    "host_name = \"localhost\"\n",
    "\n",
    "client.connect(host_name)"
   ]
  },
  {
   "cell_type": "markdown",
   "metadata": {},
   "source": [
    "# Loop Start"
   ]
  },
  {
   "cell_type": "code",
   "execution_count": 6,
   "metadata": {},
   "outputs": [],
   "source": [
    "# and finally we need to run a loop otherwise we won’t see the callbacks. \n",
    "# The simplest method is to use loop_start() as follows.\n",
    "client.loop_start()    #start the loop"
   ]
  },
  {
   "cell_type": "markdown",
   "metadata": {},
   "source": [
    "# Subscribing To Topics"
   ]
  },
  {
   "cell_type": "markdown",
   "metadata": {},
   "source": [
    "The subscribe method accepts 2 parameters – A topic or topics and a QOS (quality of Service) as shown below with their default values.\n",
    "\n",
    "subscribe(topic, qos=0)"
   ]
  },
  {
   "cell_type": "code",
   "execution_count": 7,
   "metadata": {},
   "outputs": [
    {
     "data": {
      "text/plain": [
       "(0, 1)"
      ]
     },
     "execution_count": 7,
     "metadata": {},
     "output_type": "execute_result"
    }
   ],
   "source": [
    "topic = \"alerter/sensor-T1\"\n",
    "client.subscribe(topic, qos=0)"
   ]
  },
  {
   "cell_type": "markdown",
   "metadata": {},
   "source": [
    "# Publishing Messages"
   ]
  },
  {
   "cell_type": "markdown",
   "metadata": {},
   "source": [
    "The publish method accepts 4 parameters. The parameters are shown below with their default values.\n",
    "\n",
    "publish(topic, payload=None, qos=0, retain=False)"
   ]
  },
  {
   "cell_type": "code",
   "execution_count": 8,
   "metadata": {
    "scrolled": true
   },
   "outputs": [
    {
     "name": "stdout",
     "output_type": "stream",
     "text": [
      "message received  ON\n",
      "message topic= alerter/sensor-T1\n",
      "message qos= 0\n",
      "message retain flag= 0\n",
      "\n",
      "\n"
     ]
    },
    {
     "data": {
      "text/plain": [
       "<paho.mqtt.client.MQTTMessageInfo at 0x72fae9c0>"
      ]
     },
     "execution_count": 8,
     "metadata": {},
     "output_type": "execute_result"
    }
   ],
   "source": [
    "client.publish(\"alerter/sensor-T1\",\"ON\")"
   ]
  },
  {
   "cell_type": "code",
   "execution_count": 9,
   "metadata": {
    "scrolled": false
   },
   "outputs": [
    {
     "name": "stdout",
     "output_type": "stream",
     "text": [
      "message received  Open\n",
      "message topic= alerter/sensor-T1\n",
      "message qos= 0\n",
      "message retain flag= 0\n",
      "\n",
      "\n",
      "message received  Open\n",
      "message topic= alerter/sensor-T1\n",
      "message qos= 0\n",
      "message retain flag= 0\n",
      "\n",
      "\n",
      "Loop stopped\n"
     ]
    }
   ],
   "source": [
    "# STOP LOOP\n",
    "\n",
    "time.sleep(25) # wait\n",
    "client.loop_stop() #stop the loop\n",
    "print(\"Loop stopped !\")"
   ]
  },
  {
   "cell_type": "code",
   "execution_count": null,
   "metadata": {},
   "outputs": [],
   "source": []
  },
  {
   "cell_type": "code",
   "execution_count": null,
   "metadata": {},
   "outputs": [],
   "source": []
  }
 ],
 "metadata": {
  "kernelspec": {
   "display_name": "Python 3",
   "language": "python",
   "name": "python3"
  },
  "language_info": {
   "codemirror_mode": {
    "name": "ipython",
    "version": 3
   },
   "file_extension": ".py",
   "mimetype": "text/x-python",
   "name": "python",
   "nbconvert_exporter": "python",
   "pygments_lexer": "ipython3",
   "version": "3.5.3"
  }
 },
 "nbformat": 4,
 "nbformat_minor": 2
}
